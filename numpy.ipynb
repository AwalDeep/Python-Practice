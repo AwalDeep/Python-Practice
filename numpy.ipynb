{
 "cells": [
  {
   "cell_type": "code",
   "execution_count": 12,
   "metadata": {},
   "outputs": [],
   "source": [
    "import numpy as np\n"
   ]
  },
  {
   "cell_type": "code",
   "execution_count": 9,
   "metadata": {},
   "outputs": [],
   "source": [
    "myarray=np.arange(int(1e4))\n"
   ]
  },
  {
   "cell_type": "code",
   "execution_count": 15,
   "metadata": {},
   "outputs": [
    {
     "name": "stdout",
     "output_type": "stream",
     "text": [
      "22.6 µs ± 698 ns per loop (mean ± std. dev. of 7 runs, 10000 loops each)\n"
     ]
    }
   ],
   "source": [
    "%%timeit\n",
    "myarray*2\n"
   ]
  },
  {
   "cell_type": "code",
   "execution_count": 16,
   "metadata": {},
   "outputs": [
    {
     "ename": "SyntaxError",
     "evalue": "invalid syntax (<ipython-input-16-5212f1f9d467>, line 1)",
     "output_type": "error",
     "traceback": [
      "\u001b[1;36m  File \u001b[1;32m\"<ipython-input-16-5212f1f9d467>\"\u001b[1;36m, line \u001b[1;32m1\u001b[0m\n\u001b[1;33m    cd G:\u001b[0m\n\u001b[1;37m       ^\u001b[0m\n\u001b[1;31mSyntaxError\u001b[0m\u001b[1;31m:\u001b[0m invalid syntax\n"
     ]
    }
   ],
   "source": [
    "cd G:\n",
    "    "
   ]
  },
  {
   "cell_type": "code",
   "execution_count": 17,
   "metadata": {},
   "outputs": [
    {
     "ename": "SyntaxError",
     "evalue": "invalid syntax (<ipython-input-17-a1dbb4af29b3>, line 1)",
     "output_type": "error",
     "traceback": [
      "\u001b[1;36m  File \u001b[1;32m\"<ipython-input-17-a1dbb4af29b3>\"\u001b[1;36m, line \u001b[1;32m1\u001b[0m\n\u001b[1;33m    G:\u001b[0m\n\u001b[1;37m      ^\u001b[0m\n\u001b[1;31mSyntaxError\u001b[0m\u001b[1;31m:\u001b[0m invalid syntax\n"
     ]
    }
   ],
   "source": [
    "G:"
   ]
  },
  {
   "cell_type": "code",
   "execution_count": 18,
   "metadata": {},
   "outputs": [
    {
     "name": "stdout",
     "output_type": "stream",
     "text": [
      " Volume in drive C has no label.\n",
      " Volume Serial Number is 16DC-FFB7\n",
      "\n",
      " Directory of C:\\Users\\lenovo\n",
      "\n",
      "06/20/2018  10:41 AM    <DIR>          .\n",
      "06/20/2018  10:41 AM    <DIR>          ..\n",
      "06/20/2018  10:15 AM    <DIR>          .ipynb_checkpoints\n",
      "06/19/2018  02:58 PM    <DIR>          .ipython\n",
      "06/20/2018  10:13 AM    <DIR>          .jupyter\n",
      "06/19/2018  02:58 PM    <DIR>          .matplotlib\n",
      "06/19/2018  06:45 PM    <DIR>          .spyder-py3\n",
      "06/19/2018  01:02 PM    <DIR>          .vscode\n",
      "06/18/2018  09:12 PM    <DIR>          3D Objects\n",
      "06/19/2018  01:01 PM    <DIR>          Anaconda3\n",
      "06/18/2018  09:12 PM    <DIR>          Contacts\n",
      "06/19/2018  01:03 PM    <DIR>          Desktop\n",
      "06/19/2018  02:56 PM    <DIR>          Documents\n",
      "06/20/2018  10:53 AM    <DIR>          Downloads\n",
      "06/18/2018  09:12 PM    <DIR>          Favorites\n",
      "06/20/2018  10:41 AM             1,178 first.ipynb\n",
      "06/18/2018  09:12 PM    <DIR>          Links\n",
      "06/18/2018  09:12 PM    <DIR>          Music\n",
      "06/18/2018  09:46 AM    <DIR>          OneDrive\n",
      "06/18/2018  09:12 PM    <DIR>          Pictures\n",
      "06/18/2018  09:12 PM    <DIR>          Saved Games\n",
      "06/18/2018  09:12 PM    <DIR>          Searches\n",
      "06/19/2018  12:07 PM    <DIR>          Videos\n",
      "               1 File(s)          1,178 bytes\n",
      "              22 Dir(s)  170,904,559,616 bytes free\n"
     ]
    }
   ],
   "source": [
    "ls"
   ]
  },
  {
   "cell_type": "code",
   "execution_count": 19,
   "metadata": {},
   "outputs": [
    {
     "name": "stdout",
     "output_type": "stream",
     "text": [
      "C:\\Users\n"
     ]
    }
   ],
   "source": [
    "cd .."
   ]
  },
  {
   "cell_type": "code",
   "execution_count": 20,
   "metadata": {},
   "outputs": [
    {
     "name": "stdout",
     "output_type": "stream",
     "text": [
      "C:\\\n"
     ]
    }
   ],
   "source": [
    "cd ..\n"
   ]
  },
  {
   "cell_type": "code",
   "execution_count": 21,
   "metadata": {},
   "outputs": [
    {
     "name": "stdout",
     "output_type": "stream",
     "text": [
      "C:\\\n"
     ]
    }
   ],
   "source": [
    "cd .."
   ]
  },
  {
   "cell_type": "code",
   "execution_count": 22,
   "metadata": {},
   "outputs": [
    {
     "ename": "SyntaxError",
     "evalue": "invalid syntax (<ipython-input-22-555f356b475e>, line 1)",
     "output_type": "error",
     "traceback": [
      "\u001b[1;36m  File \u001b[1;32m\"<ipython-input-22-555f356b475e>\"\u001b[1;36m, line \u001b[1;32m1\u001b[0m\n\u001b[1;33m    cd D:\u001b[0m\n\u001b[1;37m       ^\u001b[0m\n\u001b[1;31mSyntaxError\u001b[0m\u001b[1;31m:\u001b[0m invalid syntax\n"
     ]
    }
   ],
   "source": [
    "cd D:\n",
    "    "
   ]
  },
  {
   "cell_type": "code",
   "execution_count": 23,
   "metadata": {},
   "outputs": [
    {
     "name": "stdout",
     "output_type": "stream",
     "text": [
      "D:\\data\n"
     ]
    }
   ],
   "source": [
    "cd D:\\data"
   ]
  },
  {
   "cell_type": "code",
   "execution_count": 26,
   "metadata": {},
   "outputs": [
    {
     "name": "stdout",
     "output_type": "stream",
     "text": [
      "D:\\data\\data-master\\alcohol-consumption\n"
     ]
    }
   ],
   "source": [
    "cd data-master\\alcohol-consumption\n"
   ]
  },
  {
   "cell_type": "code",
   "execution_count": 27,
   "metadata": {},
   "outputs": [
    {
     "ename": "NameError",
     "evalue": "name 'drinks' is not defined",
     "output_type": "error",
     "traceback": [
      "\u001b[1;31m---------------------------------------------------------------------------\u001b[0m",
      "\u001b[1;31mNameError\u001b[0m                                 Traceback (most recent call last)",
      "\u001b[1;32m<ipython-input-27-08c5b1b5f3e9>\u001b[0m in \u001b[0;36m<module>\u001b[1;34m()\u001b[0m\n\u001b[1;32m----> 1\u001b[1;33m \u001b[0mdrinks\u001b[0m\u001b[1;33m.\u001b[0m\u001b[0mcsv\u001b[0m\u001b[1;33m\u001b[0m\u001b[0m\n\u001b[0m",
      "\u001b[1;31mNameError\u001b[0m: name 'drinks' is not defined"
     ]
    }
   ],
   "source": [
    "drinks.csv"
   ]
  },
  {
   "cell_type": "code",
   "execution_count": 28,
   "metadata": {},
   "outputs": [
    {
     "name": "stdout",
     "output_type": "stream",
     "text": [
      " Volume in drive D is Work\n",
      " Volume Serial Number is 782E-EC30\n",
      "\n",
      " Directory of D:\\data\\data-master\\alcohol-consumption\n",
      "\n",
      "06/19/2018  02:52 PM    <DIR>          .\n",
      "06/19/2018  02:52 PM    <DIR>          ..\n",
      "06/19/2018  02:52 PM             4,384 drinks.csv\n",
      "06/19/2018  02:52 PM               394 README.md\n",
      "               2 File(s)          4,778 bytes\n",
      "               2 Dir(s)  492,472,209,408 bytes free\n"
     ]
    }
   ],
   "source": [
    "ls"
   ]
  },
  {
   "cell_type": "code",
   "execution_count": 29,
   "metadata": {},
   "outputs": [
    {
     "ename": "NameError",
     "evalue": "name 'drinks' is not defined",
     "output_type": "error",
     "traceback": [
      "\u001b[1;31m---------------------------------------------------------------------------\u001b[0m",
      "\u001b[1;31mNameError\u001b[0m                                 Traceback (most recent call last)",
      "\u001b[1;32m<ipython-input-29-08c5b1b5f3e9>\u001b[0m in \u001b[0;36m<module>\u001b[1;34m()\u001b[0m\n\u001b[1;32m----> 1\u001b[1;33m \u001b[0mdrinks\u001b[0m\u001b[1;33m.\u001b[0m\u001b[0mcsv\u001b[0m\u001b[1;33m\u001b[0m\u001b[0m\n\u001b[0m",
      "\u001b[1;31mNameError\u001b[0m: name 'drinks' is not defined"
     ]
    }
   ],
   "source": [
    "drinks.csv"
   ]
  },
  {
   "cell_type": "code",
   "execution_count": 41,
   "metadata": {},
   "outputs": [
    {
     "name": "stdout",
     "output_type": "stream",
     "text": [
      "country,beer_servings,spirit_servings,wine_servings,total_litres_of_pure_alcohol\n",
      "\n",
      "Afghanistan,0,0,0,0.0\n",
      "\n",
      "Albania,89,132,54,4.9\n",
      "\n",
      "Algeria,25,0,14,0.7\n",
      "\n",
      "Andorra,245,138,312,12.4\n",
      "\n",
      "Angola,217,57,45,5.9\n",
      "\n",
      "Antigua & Barbuda,102,128,45,4.9\n",
      "\n",
      "Argentina,193,25,221,8.3\n",
      "\n",
      "Armenia,21,179,11,3.8\n",
      "\n",
      "Australia,261,72,212,10.4\n",
      "\n",
      "Austria,279,75,191,9.7\n",
      "\n",
      "Azerbaijan,21,46,5,1.3\n",
      "\n",
      "Bahamas,122,176,51,6.3\n",
      "\n",
      "Bahrain,42,63,7,2.0\n",
      "\n",
      "Bangladesh,0,0,0,0.0\n",
      "\n",
      "Barbados,143,173,36,6.3\n",
      "\n",
      "Belarus,142,373,42,14.4\n",
      "\n",
      "Belgium,295,84,212,10.5\n",
      "\n",
      "Belize,263,114,8,6.8\n",
      "\n",
      "Benin,34,4,13,1.1\n",
      "\n",
      "Bhutan,23,0,0,0.4\n",
      "\n",
      "Bolivia,167,41,8,3.8\n",
      "\n",
      "Bosnia-Herzegovina,76,173,8,4.6\n",
      "\n",
      "Botswana,173,35,35,5.4\n",
      "\n",
      "Brazil,245,145,16,7.2\n",
      "\n",
      "Brunei,31,2,1,0.6\n",
      "\n",
      "Bulgaria,231,252,94,10.3\n",
      "\n",
      "Burkina Faso,25,7,7,4.3\n",
      "\n",
      "Burundi,88,0,0,6.3\n",
      "\n",
      "Cote d'Ivoire,37,1,7,4.0\n",
      "\n",
      "Cabo Verde,144,56,16,4.0\n",
      "\n",
      "Cambodia,57,65,1,2.2\n",
      "\n",
      "Cameroon,147,1,4,5.8\n",
      "\n",
      "Canada,240,122,100,8.2\n",
      "\n",
      "Central African Republic,17,2,1,1.8\n",
      "\n",
      "Chad,15,1,1,0.4\n",
      "\n",
      "Chile,130,124,172,7.6\n",
      "\n",
      "China,79,192,8,5.0\n",
      "\n",
      "Colombia,159,76,3,4.2\n",
      "\n",
      "Comoros,1,3,1,0.1\n",
      "\n",
      "Congo,76,1,9,1.7\n",
      "\n",
      "Cook Islands,0,254,74,5.9\n",
      "\n",
      "Costa Rica,149,87,11,4.4\n",
      "\n",
      "Croatia,230,87,254,10.2\n",
      "\n",
      "Cuba,93,137,5,4.2\n",
      "\n",
      "Cyprus,192,154,113,8.2\n",
      "\n",
      "Czech Republic,361,170,134,11.8\n",
      "\n",
      "North Korea,0,0,0,0.0\n",
      "\n",
      "DR Congo,32,3,1,2.3\n",
      "\n",
      "Denmark,224,81,278,10.4\n",
      "\n",
      "Djibouti,15,44,3,1.1\n",
      "\n",
      "Dominica,52,286,26,6.6\n",
      "\n",
      "Dominican Republic,193,147,9,6.2\n",
      "\n",
      "Ecuador,162,74,3,4.2\n",
      "\n",
      "Egypt,6,4,1,0.2\n",
      "\n",
      "El Salvador,52,69,2,2.2\n",
      "\n",
      "Equatorial Guinea,92,0,233,5.8\n",
      "\n",
      "Eritrea,18,0,0,0.5\n",
      "\n",
      "Estonia,224,194,59,9.5\n",
      "\n",
      "Ethiopia,20,3,0,0.7\n",
      "\n",
      "Fiji,77,35,1,2.0\n",
      "\n",
      "Finland,263,133,97,10.0\n",
      "\n",
      "France,127,151,370,11.8\n",
      "\n",
      "Gabon,347,98,59,8.9\n",
      "\n",
      "Gambia,8,0,1,2.4\n",
      "\n",
      "Georgia,52,100,149,5.4\n",
      "\n",
      "Germany,346,117,175,11.3\n",
      "\n",
      "Ghana,31,3,10,1.8\n",
      "\n",
      "Greece,133,112,218,8.3\n",
      "\n",
      "Grenada,199,438,28,11.9\n",
      "\n",
      "Guatemala,53,69,2,2.2\n",
      "\n",
      "Guinea,9,0,2,0.2\n",
      "\n",
      "Guinea-Bissau,28,31,21,2.5\n",
      "\n",
      "Guyana,93,302,1,7.1\n",
      "\n",
      "Haiti,1,326,1,5.9\n",
      "\n",
      "Honduras,69,98,2,3.0\n",
      "\n",
      "Hungary,234,215,185,11.3\n",
      "\n",
      "Iceland,233,61,78,6.6\n",
      "\n",
      "India,9,114,0,2.2\n",
      "\n",
      "Indonesia,5,1,0,0.1\n",
      "\n",
      "Iran,0,0,0,0.0\n",
      "\n",
      "Iraq,9,3,0,0.2\n",
      "\n",
      "Ireland,313,118,165,11.4\n",
      "\n",
      "Israel,63,69,9,2.5\n",
      "\n",
      "Italy,85,42,237,6.5\n",
      "\n",
      "Jamaica,82,97,9,3.4\n",
      "\n",
      "Japan,77,202,16,7.0\n",
      "\n",
      "Jordan,6,21,1,0.5\n",
      "\n",
      "Kazakhstan,124,246,12,6.8\n",
      "\n",
      "Kenya,58,22,2,1.8\n",
      "\n",
      "Kiribati,21,34,1,1.0\n",
      "\n",
      "Kuwait,0,0,0,0.0\n",
      "\n",
      "Kyrgyzstan,31,97,6,2.4\n",
      "\n",
      "Laos,62,0,123,6.2\n",
      "\n",
      "Latvia,281,216,62,10.5\n",
      "\n",
      "Lebanon,20,55,31,1.9\n",
      "\n",
      "Lesotho,82,29,0,2.8\n",
      "\n",
      "Liberia,19,152,2,3.1\n",
      "\n",
      "Libya,0,0,0,0.0\n",
      "\n",
      "Lithuania,343,244,56,12.9\n",
      "\n"
     ]
    }
   ],
   "source": [
    "with open('drinks.csv') as drinks:\n",
    "    for x in range(100):\n",
    "        print(drinks.readline())\n"
   ]
  },
  {
   "cell_type": "code",
   "execution_count": null,
   "metadata": {},
   "outputs": [],
   "source": []
  },
  {
   "cell_type": "code",
   "execution_count": null,
   "metadata": {},
   "outputs": [],
   "source": []
  }
 ],
 "metadata": {
  "kernelspec": {
   "display_name": "Python 3",
   "language": "python",
   "name": "python3"
  },
  "language_info": {
   "codemirror_mode": {
    "name": "ipython",
    "version": 3
   },
   "file_extension": ".py",
   "mimetype": "text/x-python",
   "name": "python",
   "nbconvert_exporter": "python",
   "pygments_lexer": "ipython3",
   "version": "3.6.5"
  }
 },
 "nbformat": 4,
 "nbformat_minor": 2
}
