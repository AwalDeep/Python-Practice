{
 "cells": [
  {
   "cell_type": "code",
   "execution_count": 6,
   "metadata": {},
   "outputs": [
    {
     "name": "stdout",
     "output_type": "stream",
     "text": [
      "Probalibity of 10 is: 0.2\n"
     ]
    }
   ],
   "source": [
    "import numpy.random as nprand\n",
    "\n",
    "res=10\n",
    "n=10\n",
    "m=15\n",
    "prob=[0.1,0.2,0.3,0.1,0.2,0.1]\n",
    "dice=nprand.choice(a=[1,2,3,4,5,6],size=(m,n),p=prob)\n",
    "res_list=[]\n",
    "temp=0\n",
    "for sno,iteration in enumerate(dice):\n",
    "    temp_res=0\n",
    "    for dice_value in iteration:\n",
    "        if dice_value==1 or dice_value==2:\n",
    "            if temp_res>0:\n",
    "                temp_res-=1\n",
    "            else:\n",
    "                temp_res=0\n",
    "        if dice_value==3 or dice_value==4 or dice_value==5:\n",
    "            temp_res+=1\n",
    "        if dice_value==6:\n",
    "            temp=nprand.choice(a=[1,2,3,4,5,6],p=prob)\n",
    "            temp_res+=temp\n",
    "    res_list.append(temp_res)\n",
    "    \n",
    "flag=0\n",
    "for res_val in res_list:\n",
    "    if res_val==res:\n",
    "        flag+=1\n",
    "print('Probalibity of {} is: {}'.format(res,flag/m))"
   ]
  },
  {
   "cell_type": "code",
   "execution_count": null,
   "metadata": {},
   "outputs": [],
   "source": []
  },
  {
   "cell_type": "code",
   "execution_count": null,
   "metadata": {},
   "outputs": [],
   "source": []
  }
 ],
 "metadata": {
  "kernelspec": {
   "display_name": "Python 3",
   "language": "python",
   "name": "python3"
  },
  "language_info": {
   "codemirror_mode": {
    "name": "ipython",
    "version": 3
   },
   "file_extension": ".py",
   "mimetype": "text/x-python",
   "name": "python",
   "nbconvert_exporter": "python",
   "pygments_lexer": "ipython3",
   "version": "3.6.5"
  }
 },
 "nbformat": 4,
 "nbformat_minor": 2
}
