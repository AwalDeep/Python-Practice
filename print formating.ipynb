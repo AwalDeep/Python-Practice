{
 "cells": [
  {
   "cell_type": "code",
   "execution_count": 6,
   "metadata": {},
   "outputs": [
    {
     "name": "stdout",
     "output_type": "stream",
     "text": [
      "My name is awal and I'm from gne\n"
     ]
    }
   ],
   "source": [
    "name ='awal'\n",
    "college='gne'\n",
    "print(f\"My name is {name} and I'm from {college}\")"
   ]
  },
  {
   "cell_type": "code",
   "execution_count": 8,
   "metadata": {},
   "outputs": [
    {
     "name": "stdout",
     "output_type": "stream",
     "text": [
      "My name is awal and I'm from gne\n"
     ]
    }
   ],
   "source": [
    "print(\"My name is {} and I'm from {}\".format('awal','gne'))"
   ]
  },
  {
   "cell_type": "code",
   "execution_count": 9,
   "metadata": {},
   "outputs": [
    {
     "name": "stdout",
     "output_type": "stream",
     "text": [
      "My name is awal and I'm from gne\n"
     ]
    }
   ],
   "source": [
    "print(\"My name is {name} and I'm from {college}\".format(name='awal',college='gne'))"
   ]
  },
  {
   "cell_type": "code",
   "execution_count": 10,
   "metadata": {},
   "outputs": [
    {
     "name": "stdout",
     "output_type": "stream",
     "text": [
      "My name is awal and I'm from gne\n"
     ]
    }
   ],
   "source": [
    "print(\"My name is {0} and I'm from {1}\".format('awal','gne'))"
   ]
  },
  {
   "cell_type": "code",
   "execution_count": 17,
   "metadata": {},
   "outputs": [
    {
     "name": "stdout",
     "output_type": "stream",
     "text": [
      "Marks  obtained are 55.569\n"
     ]
    }
   ],
   "source": [
    "print(\"Marks  obtained are {marks:6.3f}\".format(marks=55.56862))"
   ]
  },
  {
   "cell_type": "code",
   "execution_count": 22,
   "metadata": {},
   "outputs": [
    {
     "name": "stdout",
     "output_type": "stream",
     "text": [
      "Marks obtained are 55.57\n"
     ]
    }
   ],
   "source": [
    "marks=55.5686264865\n",
    "print(f\"Marks obtained are {marks:2.2f}\")"
   ]
  },
  {
   "cell_type": "code",
   "execution_count": 27,
   "metadata": {},
   "outputs": [
    {
     "name": "stdout",
     "output_type": "stream",
     "text": [
      "I secured 55.568626 marks\n"
     ]
    }
   ],
   "source": [
    "print(\"I secured %f marks\"%marks)"
   ]
  },
  {
   "cell_type": "code",
   "execution_count": 30,
   "metadata": {},
   "outputs": [
    {
     "name": "stdout",
     "output_type": "stream",
     "text": [
      "my name is awal and i like pika \tchu\n"
     ]
    }
   ],
   "source": [
    "print(\"my name is %s and i like %s\"%('awal','pika \\tchu'))"
   ]
  },
  {
   "cell_type": "code",
   "execution_count": 34,
   "metadata": {},
   "outputs": [
    {
     "name": "stdout",
     "output_type": "stream",
     "text": [
      "I think we will be Data Scientists in 2 years with 50 % probability\n"
     ]
    }
   ],
   "source": [
    "print(\"I think we will be %s in %d years with %d %s probability\"%('Data Scientists',2,50,'%'))"
   ]
  },
  {
   "cell_type": "code",
   "execution_count": 37,
   "metadata": {},
   "outputs": [
    {
     "name": "stdout",
     "output_type": "stream",
     "text": [
      "let's go to next section\n"
     ]
    }
   ],
   "source": [
    "print(\"{0}{1}{2}{3}{4}\".format(\"let's \",\"go \",\"to \",\"next \",\"section\"))"
   ]
  },
  {
   "cell_type": "code",
   "execution_count": 64,
   "metadata": {},
   "outputs": [
    {
     "name": "stdout",
     "output_type": "stream",
     "text": [
      "people have     you completed ?\n"
     ]
    }
   ],
   "source": [
    "print(\"{0:15} {1:15}\".format(\"people have\" ,\"you completed ?\"))"
   ]
  },
  {
   "cell_type": "code",
   "execution_count": 65,
   "metadata": {},
   "outputs": [
    {
     "name": "stdout",
     "output_type": "stream",
     "text": [
      "LET'S GO\n"
     ]
    }
   ],
   "source": [
    "print(\"LET'S GO\")"
   ]
  },
  {
   "cell_type": "code",
   "execution_count": 68,
   "metadata": {},
   "outputs": [
    {
     "name": "stdout",
     "output_type": "stream",
     "text": [
      "45.54\n"
     ]
    }
   ],
   "source": [
    "num=45.537646\n",
    "print(\"{0:2.2f}\".format(num))"
   ]
  },
  {
   "cell_type": "code",
   "execution_count": 78,
   "metadata": {},
   "outputs": [
    {
     "name": "stdout",
     "output_type": "stream",
     "text": [
      "45.538\n"
     ]
    }
   ],
   "source": [
    "num=45.53764651651\n",
    "print(f\"{num:{5}.{5}}\")"
   ]
  },
  {
   "cell_type": "code",
   "execution_count": null,
   "metadata": {},
   "outputs": [],
   "source": []
  }
 ],
 "metadata": {
  "kernelspec": {
   "display_name": "Python 3",
   "language": "python",
   "name": "python3"
  },
  "language_info": {
   "codemirror_mode": {
    "name": "ipython",
    "version": 3
   },
   "file_extension": ".py",
   "mimetype": "text/x-python",
   "name": "python",
   "nbconvert_exporter": "python",
   "pygments_lexer": "ipython3",
   "version": "3.6.5"
  }
 },
 "nbformat": 4,
 "nbformat_minor": 2
}
