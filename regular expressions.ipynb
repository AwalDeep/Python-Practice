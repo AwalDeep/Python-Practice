{
 "cells": [
  {
   "cell_type": "code",
   "execution_count": 1,
   "metadata": {},
   "outputs": [],
   "source": [
    "import re"
   ]
  },
  {
   "cell_type": "code",
   "execution_count": 5,
   "metadata": {},
   "outputs": [
    {
     "name": "stdout",
     "output_type": "stream",
     "text": [
      "Match\n"
     ]
    }
   ],
   "source": [
    "#simple match\n",
    "pattern = r\"Cook\"\n",
    "sequence = \"Cookie\"\n",
    "if re.match(pattern, sequence):\n",
    "    print(\"Match\")"
   ]
  },
  {
   "cell_type": "code",
   "execution_count": 8,
   "metadata": {},
   "outputs": [
    {
     "data": {
      "text/plain": [
       "'Eat'"
      ]
     },
     "execution_count": 8,
     "metadata": {},
     "output_type": "execute_result"
    }
   ],
   "source": [
    "#search\n",
    "# ^ matches start of string\n",
    "re.search(r'^Eat', \"Eat cake!\").group()"
   ]
  },
  {
   "cell_type": "code",
   "execution_count": 9,
   "metadata": {},
   "outputs": [
    {
     "data": {
      "text/plain": [
       "'cake'"
      ]
     },
     "execution_count": 9,
     "metadata": {},
     "output_type": "execute_result"
    }
   ],
   "source": [
    "# $ matches end of string\n",
    "re.search(r'cake$', \"Cake! Let's eat cake\").group()"
   ]
  },
  {
   "cell_type": "code",
   "execution_count": 13,
   "metadata": {},
   "outputs": [
    {
     "data": {
      "text/plain": [
       "'Cookie'"
      ]
     },
     "execution_count": 13,
     "metadata": {},
     "output_type": "execute_result"
    }
   ],
   "source": [
    "# . matches any single character except the newline character.\n",
    "re.search(r'Co.k.e', 'Cookie').group()"
   ]
  },
  {
   "cell_type": "code",
   "execution_count": 14,
   "metadata": {},
   "outputs": [
    {
     "data": {
      "text/plain": [
       "'5'"
      ]
     },
     "execution_count": 14,
     "metadata": {},
     "output_type": "execute_result"
    }
   ],
   "source": [
    "#matches in the range 0 to 6\n",
    "re.search(r'[0-6]', 'Number: 5').group()"
   ]
  },
  {
   "cell_type": "code",
   "execution_count": 15,
   "metadata": {},
   "outputs": [
    {
     "data": {
      "text/plain": [
       "'Not a regular character'"
      ]
     },
     "execution_count": 15,
     "metadata": {},
     "output_type": "execute_result"
    }
   ],
   "source": [
    "# use backspace for special character\n",
    "re.search(r'Not a\\sregular character', 'Not a regular character').group()"
   ]
  },
  {
   "cell_type": "code",
   "execution_count": 16,
   "metadata": {},
   "outputs": [
    {
     "data": {
      "text/plain": [
       "'N'"
      ]
     },
     "execution_count": 16,
     "metadata": {},
     "output_type": "execute_result"
    }
   ],
   "source": [
    "# [a-zA-Z0-9] - Matches any letter from (a to z) or (A to Z) or (0 to 9).\n",
    "re.search(r'[a-zA-Z0-9]', 'Number: 5').group()"
   ]
  },
  {
   "cell_type": "code",
   "execution_count": 17,
   "metadata": {},
   "outputs": [
    {
     "name": "stdout",
     "output_type": "stream",
     "text": [
      "Lowercase w: Cookie\n",
      "Uppercase W: C@ke\n",
      "Uppercase W won't match, and return: None\n"
     ]
    }
   ],
   "source": [
    "#\\w - Lowercase 'w'. Matches any single letter, digit, or underscore.\n",
    "#\\W - Uppercase 'W'. Matches any character not part of \\w (lowercase w).\n",
    "\n",
    "print(\"Lowercase w:\", re.search(r'Co\\wk\\we', 'Cookie').group())\n",
    "\n",
    "print(\"Uppercase W:\", re.search(r'C\\Wke', 'C@ke').group())\n",
    "\n",
    "print(\"Uppercase W won't match, and return:\", re.search(r'Co\\Wk\\We', 'Cookie'))"
   ]
  },
  {
   "cell_type": "code",
   "execution_count": 18,
   "metadata": {},
   "outputs": [
    {
     "name": "stdout",
     "output_type": "stream",
     "text": [
      "Lowercase s: Eat cake\n",
      "Uppercase S: cookie\n"
     ]
    }
   ],
   "source": [
    "#\\s - Lowercase 's'. Matches a single whitespace character like: space, newline, tab, return.\n",
    "#\\S - Uppercase 'S'. Matches any character not part of \\s (lowercase s).\n",
    "print(\"Lowercase s:\", re.search(r'Eat\\scake', 'Eat cake').group())\n",
    "print(\"Uppercase S:\", re.search(r'cook\\Se', \"Let's eat cookie\").group())"
   ]
  },
  {
   "cell_type": "code",
   "execution_count": 19,
   "metadata": {},
   "outputs": [
    {
     "name": "stdout",
     "output_type": "stream",
     "text": [
      "How many cookies do you want?  100\n"
     ]
    }
   ],
   "source": [
    "#\\d - Lowercase d. Matches decimal digit 0-9.\n",
    "#\\D - Uppercase d. Matches any character that is not a decimal digit.\n",
    "\n",
    "print(\"How many cookies do you want? \", re.search(r'\\d+', '100 cookies').group())"
   ]
  },
  {
   "cell_type": "code",
   "execution_count": 20,
   "metadata": {},
   "outputs": [
    {
     "data": {
      "text/plain": [
       "'Cooookie'"
      ]
     },
     "execution_count": 20,
     "metadata": {},
     "output_type": "execute_result"
    }
   ],
   "source": [
    "# + - Checks if the preceding character appears one or more times starting from that position.\n",
    "\n",
    "re.search(r'Co+kie', 'Cooookie').group()"
   ]
  },
  {
   "cell_type": "code",
   "execution_count": 21,
   "metadata": {},
   "outputs": [
    {
     "data": {
      "text/plain": [
       "'Cookie'"
      ]
     },
     "execution_count": 21,
     "metadata": {},
     "output_type": "execute_result"
    }
   ],
   "source": [
    "#* - Checks if the preceding character appears zero or more times starting from that position.\n",
    "\n",
    "# Checks for any occurrence of a or o or both in the given sequence\n",
    "re.search(r'Ca*o*kie', 'Cookie').group()"
   ]
  },
  {
   "cell_type": "code",
   "execution_count": 22,
   "metadata": {},
   "outputs": [
    {
     "data": {
      "text/plain": [
       "'Number'"
      ]
     },
     "execution_count": 22,
     "metadata": {},
     "output_type": "execute_result"
    }
   ],
   "source": [
    "re.search(r'[a-zA-Z0-9]*', 'Number: 5').group()"
   ]
  },
  {
   "cell_type": "code",
   "execution_count": 23,
   "metadata": {},
   "outputs": [
    {
     "data": {
      "text/plain": [
       "'Color'"
      ]
     },
     "execution_count": 23,
     "metadata": {},
     "output_type": "execute_result"
    }
   ],
   "source": [
    "# ? - Checks if the preceding character appears exactly zero or one time starting from that position.\n",
    "re.search(r'Colou?r', 'Color').group()"
   ]
  },
  {
   "cell_type": "code",
   "execution_count": 27,
   "metadata": {},
   "outputs": [
    {
     "data": {
      "text/plain": [
       "'0987654321'"
      ]
     },
     "execution_count": 27,
     "metadata": {},
     "output_type": "execute_result"
    }
   ],
   "source": [
    "# {x} - Repeat exactly x number of times.\n",
    "# {x,} - Repeat at least x times or more.\n",
    "# {x, y} - Repeat at least x times but no more than y times.\n",
    "\n",
    "re.search(r'\\d{9,10}', '0987654321').group()"
   ]
  },
  {
   "cell_type": "code",
   "execution_count": 28,
   "metadata": {},
   "outputs": [
    {
     "name": "stdout",
     "output_type": "stream",
     "text": [
      "Email address: support@datacamp.com\n",
      "Username: support\n",
      "Host: datacamp.com\n"
     ]
    }
   ],
   "source": [
    "statement = 'Please contact us at: support@datacamp.com'\n",
    "match = re.search(r'([\\w\\.-]+)@([\\w\\.-]+)', statement)\n",
    "if statement:\n",
    "    print(\"Email address:\", match.group()) # The whole matched text\n",
    "    print(\"Username:\", match.group(1)) # The username (group 1)\n",
    "    print(\"Host:\", match.group(2)) # The host (group 2)"
   ]
  },
  {
   "cell_type": "markdown",
   "metadata": {},
   "source": [
    "### Summary - Character(s) and What it does"
   ]
  },
  {
   "cell_type": "raw",
   "metadata": {},
   "source": [
    ".\tA period. Matches any single character except the newline character.\n",
    "^\tA caret. Matches a pattern at the start of the string.\n",
    "\\A\tUppercase A. Matches only at the start of the string.\n",
    "$\tDollar sign. Matches the end of the string.\n",
    "\\Z\tUppercase Z. Matches only at the end of the string.\n",
    "[ ]\tMatches the set of characters you specify within it.\n",
    "\\\t∙ If the character following the backslash is a recognized escape character, then the special meaning of the term is taken.\n",
    "∙ Else the backslash () is treated like any other character and passed through.\n",
    "∙ It can be used in front of all the metacharacters to remove their special meaning.\n",
    "\\w\tLowercase w. Matches any single letter, digit, or underscore.\n",
    "\\W\tUppercase W. Matches any character not part of \\w (lowercase w).\n",
    "\\s\tLowercase s. Matches a single whitespace character like: space, newline, tab, return.\n",
    "\\S\tUppercase S. Matches any character not part of \\s (lowercase s).\n",
    "\\d\tLowercase d. Matches decimal digit 0-9.\n",
    "\\D\tUppercase D. Matches any character that is not a decimal digit.\n",
    "\\t\tLowercase t. Matches tab.\n",
    "\\n\tLowercase n. Matches newline.\n",
    "\\r\tLowercase r. Matches return.\n",
    "\\b\tLowercase b. Matches only the beginning or end of the word.\n",
    "+\tChecks if the preceding character appears one or more times.\n",
    "*\tChecks if the preceding character appears zero or more times.\n",
    "?\t∙ Checks if the preceding character appears exactly zero or one time.\n",
    "∙ Specifies a non-greedy version of +, *\n",
    "{ }\tChecks for an explicit number of times.\n",
    "( )\tCreates a group when performing matches.\n",
    "< >\tCreates a named group when performing matches."
   ]
  },
  {
   "cell_type": "code",
   "execution_count": null,
   "metadata": {},
   "outputs": [],
   "source": []
  }
 ],
 "metadata": {
  "kernelspec": {
   "display_name": "Python 3",
   "language": "python",
   "name": "python3"
  },
  "language_info": {
   "codemirror_mode": {
    "name": "ipython",
    "version": 3
   },
   "file_extension": ".py",
   "mimetype": "text/x-python",
   "name": "python",
   "nbconvert_exporter": "python",
   "pygments_lexer": "ipython3",
   "version": "3.7.4"
  }
 },
 "nbformat": 4,
 "nbformat_minor": 2
}
