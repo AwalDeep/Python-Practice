{
 "cells": [
  {
   "cell_type": "code",
   "execution_count": 82,
   "metadata": {},
   "outputs": [],
   "source": [
    "bags=[1,2,4,5]\n",
    "candiesLimit=10          "
   ]
  },
  {
   "cell_type": "code",
   "execution_count": 83,
   "metadata": {},
   "outputs": [
    {
     "name": "stdout",
     "output_type": "stream",
     "text": [
      "[3, 7, 12, 6, 11, 9]\n",
      "[3, 7, 6, 9]\n"
     ]
    },
    {
     "data": {
      "text/plain": [
       "9"
      ]
     },
     "execution_count": 83,
     "metadata": {},
     "output_type": "execute_result"
    }
   ],
   "source": [
    "import numpy as np\n",
    "n=0\n",
    "sum=0\n",
    "sum_array=[]\n",
    "for i in range(len(bags)):\n",
    "    n=max(bags[i],n)\n",
    "    sum=bags[i]\n",
    "    for j in range(i+1,len(bags)):\n",
    "        sum=sum+bags[j]\n",
    "        sum_array.append(sum)\n",
    "        n=max(n,sum)\n",
    "print(sum_array) \n",
    "remove_list=[]\n",
    "for k in range(0,len(sum_array)):\n",
    "    if sum_array[k] > candiesLimit:\n",
    "        remove_list.append(sum_array[k])\n",
    "        #sum_array.remove(sum_array[k])\n",
    "        \n",
    "li_dif = [i for i in sum_array + remove_list if i not in sum_array or i not in remove_list]\n",
    "print(li_dif)\n",
    "max(li_dif)"
   ]
  },
  {
   "cell_type": "code",
   "execution_count": 77,
   "metadata": {},
   "outputs": [],
   "source": [
    "def maxCandies(bags, candiesLimit):\n",
    "    n=0\n",
    "    sum=0\n",
    "    sum_array=[]\n",
    "    remove_list=[]\n",
    "    li_dif=[]\n",
    "    for i in range(len(bags)):\n",
    "        n=max(bags[i],n)\n",
    "        sum=bags[i]\n",
    "        for j in range(i+1,len(bags)):\n",
    "            sum=sum+bags[j]\n",
    "            sum_array.append(sum)\n",
    "            n=max(n,sum)\n",
    "\n",
    "    for k in range(0,len(sum_array)):\n",
    "        if sum_array[k] > candiesLimit:\n",
    "            remove_list.append(sum_array[k])\n",
    "            \n",
    "    li_dif = [i for i in sum_array + remove_list if i not in sum_array or i not in remove_list]\n",
    "\n",
    "    mx=max(li_dif)\n",
    "    return mx        \n",
    "        \n"
   ]
  },
  {
   "cell_type": "code",
   "execution_count": 79,
   "metadata": {},
   "outputs": [
    {
     "data": {
      "text/plain": [
       "9"
      ]
     },
     "execution_count": 79,
     "metadata": {},
     "output_type": "execute_result"
    }
   ],
   "source": [
    "maxCandies(bags=[1,2,4,5],candiesLimit=10 )  "
   ]
  },
  {
   "cell_type": "code",
   "execution_count": null,
   "metadata": {},
   "outputs": [],
   "source": []
  }
 ],
 "metadata": {
  "kernelspec": {
   "display_name": "Python 3",
   "language": "python",
   "name": "python3"
  },
  "language_info": {
   "codemirror_mode": {
    "name": "ipython",
    "version": 3
   },
   "file_extension": ".py",
   "mimetype": "text/x-python",
   "name": "python",
   "nbconvert_exporter": "python",
   "pygments_lexer": "ipython3",
   "version": "3.6.5"
  }
 },
 "nbformat": 4,
 "nbformat_minor": 2
}
